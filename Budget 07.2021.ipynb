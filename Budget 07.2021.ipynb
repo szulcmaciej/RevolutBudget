{
 "cells": [
  {
   "cell_type": "code",
   "execution_count": null,
   "id": "56f37cc6",
   "metadata": {},
   "outputs": [],
   "source": [
    "import pandas as pd\n",
    "import matplotlib.pyplot as plt\n",
    "import plotly.express as px\n",
    "\n",
    "from RevolutBudget.utils import read_revolut_data\n",
    "\n",
    "source_maciek = ['/Users/maciek/Downloads/Revolut-EUR-Maciek.csv']\n",
    "source_ewa = ['/Users/maciek/Downloads/Revolut-EUR-Ewa.csv']\n",
    "\n",
    "df_maciek = read_revolut_data(source_maciek)\n",
    "df_ewa = read_revolut_data(source_ewa)\n",
    "\n",
    "df_raw = pd.concat([df_maciek, df_ewa])"
   ]
  },
  {
   "cell_type": "code",
   "execution_count": null,
   "id": "a52bc6d6",
   "metadata": {},
   "outputs": [],
   "source": [
    "df_raw.columns"
   ]
  },
  {
   "cell_type": "code",
   "execution_count": null,
   "id": "c7f9926e",
   "metadata": {},
   "outputs": [],
   "source": [
    "df_raw.head()"
   ]
  },
  {
   "cell_type": "code",
   "execution_count": null,
   "id": "59de9174",
   "metadata": {},
   "outputs": [],
   "source": [
    "len(df_raw)"
   ]
  },
  {
   "cell_type": "code",
   "execution_count": null,
   "id": "c297a357",
   "metadata": {},
   "outputs": [],
   "source": [
    "def filter_exchanges(df):\n",
    "    return df[df['Exchange Rate'].apply(lambda x: len(x) <= 1)]\n",
    "\n",
    "def filter_incomes(df):\n",
    "    return df[pd.isna(df['Paid In (EUR)'])]\n",
    "\n",
    "def filter_cash(df):\n",
    "    return df[df['Category'] != 'Gotówka']\n",
    "\n",
    "def filter_transfers(df):\n",
    "    return df[df['Category'] != 'Przelewy']"
   ]
  },
  {
   "cell_type": "code",
   "execution_count": null,
   "id": "67d5fe28",
   "metadata": {},
   "outputs": [],
   "source": [
    "def apply_filters(df):\n",
    "    df = filter_exchanges(df)\n",
    "    df = filter_incomes(df)\n",
    "    df = filter_cash(df)\n",
    "    df = filter_transfers(df)\n",
    "    return df"
   ]
  },
  {
   "cell_type": "code",
   "execution_count": null,
   "id": "7a96fac5",
   "metadata": {},
   "outputs": [],
   "source": [
    "def make_columns_numeric(df, columns):\n",
    "    for column in columns:\n",
    "        df[column] = df[column].apply(lambda x: pd.to_numeric('.'.join(x.strip().split(','))))\n",
    "    return df"
   ]
  },
  {
   "cell_type": "code",
   "execution_count": null,
   "id": "eb281fef",
   "metadata": {},
   "outputs": [],
   "source": [
    "df_filtered = apply_filters(df_raw)\n",
    "df_filtered = make_columns_numeric(df_filtered, ['Paid Out (EUR)'])"
   ]
  },
  {
   "cell_type": "code",
   "execution_count": null,
   "id": "77f97a10",
   "metadata": {},
   "outputs": [],
   "source": [
    "len(df_filtered)"
   ]
  },
  {
   "cell_type": "code",
   "execution_count": null,
   "id": "6aa5c10c",
   "metadata": {},
   "outputs": [],
   "source": [
    "def spending_by_category(df):\n",
    "    return df.groupby(['Category']).sum().sort_values('Paid Out (EUR)', ascending=False)[['Paid Out (EUR)']]"
   ]
  },
  {
   "cell_type": "code",
   "execution_count": null,
   "id": "945f4c72",
   "metadata": {},
   "outputs": [],
   "source": [
    "def spending_by_reference(df):\n",
    "    return df.groupby(['Reference', 'Category']).sum().sort_values('Paid Out (EUR)', ascending=False)[['Paid Out (EUR)']]"
   ]
  },
  {
   "cell_type": "code",
   "execution_count": null,
   "id": "0b2f40df",
   "metadata": {},
   "outputs": [],
   "source": [
    "spending_by_category(df_filtered)"
   ]
  },
  {
   "cell_type": "code",
   "execution_count": null,
   "id": "cc6fa4f5",
   "metadata": {},
   "outputs": [],
   "source": [
    "spending_by_reference(df_filtered)"
   ]
  },
  {
   "cell_type": "code",
   "execution_count": null,
   "id": "e2924733",
   "metadata": {},
   "outputs": [],
   "source": [
    "def plot_category_pie_chart(df):\n",
    "    category_spending = spending_by_category(df)\n",
    "    plt.pie(category_spending['Paid Out (EUR)'])\n",
    "    plt.show()"
   ]
  },
  {
   "cell_type": "code",
   "execution_count": null,
   "id": "98b024b6",
   "metadata": {},
   "outputs": [],
   "source": [
    "plot_category_pie_chart(df_filtered)"
   ]
  },
  {
   "cell_type": "code",
   "execution_count": null,
   "id": "a1941e85",
   "metadata": {},
   "outputs": [],
   "source": [
    "def plot_category_pie_chart(df):\n",
    "    category_spending = spending_by_category(df)\n",
    "    fig = px.pie(df, 'Category', 'Paid Out (EUR)')\n",
    "    fig.show()"
   ]
  },
  {
   "cell_type": "code",
   "execution_count": null,
   "id": "d6cfcf0b",
   "metadata": {},
   "outputs": [],
   "source": [
    "plot_category_pie_chart(df_filtered)"
   ]
  },
  {
   "cell_type": "code",
   "execution_count": null,
   "id": "529f9b30",
   "metadata": {},
   "outputs": [],
   "source": [
    "def plot_xkcd_laperi_savings():\n",
    "    pass"
   ]
  },
  {
   "cell_type": "code",
   "execution_count": null,
   "id": "2b77ed33",
   "metadata": {},
   "outputs": [],
   "source": []
  }
 ],
 "metadata": {
  "kernelspec": {
   "display_name": "Python 3 (ipykernel)",
   "language": "python",
   "name": "python3"
  },
  "language_info": {
   "codemirror_mode": {
    "name": "ipython",
    "version": 3
   },
   "file_extension": ".py",
   "mimetype": "text/x-python",
   "name": "python",
   "nbconvert_exporter": "python",
   "pygments_lexer": "ipython3",
   "version": "3.7.3"
  }
 },
 "nbformat": 4,
 "nbformat_minor": 5
}
